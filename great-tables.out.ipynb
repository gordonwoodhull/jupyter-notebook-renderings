{
  "cells": [
    {
      "cell_type": "markdown",
      "metadata": {},
      "source": [
        "# great tables"
      ],
      "id": "e0272432-f553-4a86-9913-1a2b5363372f"
    },
    {
      "cell_type": "code",
      "execution_count": 3,
      "metadata": {
        "renderings": [
          "light",
          "dark"
        ]
      },
      "outputs": [
        {
          "output_type": "display_data",
          "metadata": {},
          "data": {
            "text/html": [
              "\n",
              "\n",
              "</div>"
            ]
          }
        }
      ],
      "source": [
        "from great_tables import GT, exibble\n",
        "from IPython.display import display\n",
        "\n",
        "gt_ex = (\n",
        "  GT(exibble.head(5), rowname_col=\"row\", groupname_col=\"group\")\n",
        "    .tab_header(\"THE HEADING\", \"(a subtitle)\")\n",
        "    .tab_stubhead(\"THE STUBHEAD\")\n",
        "    .tab_source_note(\"THE SOURCE NOTE\")\n",
        ")\n",
        "\n",
        "display(gt_ex.tab_options(**light_theme))\n",
        "display(gt_ex.tab_options(**dark_theme))"
      ],
      "id": "great-tables"
    },
    {
      "cell_type": "markdown",
      "metadata": {},
      "source": [
        "Lorem ipsum dolor sit amet, consectetur adipiscing elit. Duis sagittis\n",
        "posuere ligula sit amet lacinia. Duis dignissim pellentesque magna,\n",
        "rhoncus congue sapien finibus mollis. Ut eu sem laoreet, vehicula ipsum\n",
        "in, convallis erat. Vestibulum magna sem, blandit pulvinar augue sit\n",
        "amet, auctor malesuada sapien. Nullam faucibus leo eget eros hendrerit,\n",
        "non laoreet ipsum lacinia. Curabitur cursus diam elit, non tempus ante\n",
        "volutpat a. Quisque hendrerit blandit purus non fringilla. Integer sit\n",
        "amet elit viverra ante dapibus semper. Vestibulum viverra rutrum enim,\n",
        "at luctus enim posuere eu. Orci varius natoque penatibus et magnis dis\n",
        "parturient montes, nascetur ridiculus mus.\n",
        "\n",
        "Nunc ac dignissim magna. Vestibulum vitae egestas elit. Proin feugiat\n",
        "leo quis ante condimentum, eu ornare mauris feugiat. Pellentesque\n",
        "habitant morbi tristique senectus et netus et malesuada fames ac turpis\n",
        "egestas. Mauris cursus laoreet ex, dignissim bibendum est posuere\n",
        "iaculis. Suspendisse et maximus elit. In fringilla gravida ornare.\n",
        "Aenean id lectus pulvinar, sagittis felis nec, rutrum risus. Nam vel\n",
        "neque eu arcu blandit fringilla et in quam. Aliquam luctus est sit amet\n",
        "vestibulum eleifend. Phasellus elementum sagittis molestie. Proin tempor\n",
        "lorem arcu, at condimentum purus volutpat eu. Fusce et pellentesque\n",
        "ligula. Pellentesque id tellus at erat luctus fringilla. Suspendisse\n",
        "potenti."
      ],
      "id": "1575fc01-7809-42ad-87e0-a8885db53e5f"
    }
  ],
  "nbformat": 4,
  "nbformat_minor": 5,
  "metadata": {
    "kernelspec": {
      "name": "python3",
      "display_name": "Python 3 (ipykernel)",
      "language": "python"
    },
    "language_info": {
      "name": "python"
    }
  }
}