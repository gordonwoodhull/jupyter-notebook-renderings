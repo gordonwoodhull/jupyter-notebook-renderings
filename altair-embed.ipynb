{
  "cells": [
    {
      "cell_type": "raw",
      "metadata": {},
      "source": [
        "---\n",
        "title: altair embed\n",
        "---\n",
        "\n",
        "::: {#fig-altair-mpg-hp}\n",
        "\n",
        "{{< embed altair.ipynb#altair-mpg-hp >}}\n",
        "\n",
        ":::\n",
        "\n",
        "\n",
        "{{< lipsum 1 >}}"
      ]
    },
    {
      "cell_type": "raw",
      "metadata": {},
      "source": []
    }
  ],
  "metadata": {
    "kernelspec": {
      "display_name": "Python 3 (ipykernel)",
      "language": "python",
      "name": "python3",
      "path": "/Users/gordon/src/quarto-web/.venv/share/jupyter/kernels/python3"
    },
    "language_info": {
      "name": "python"
    }
  },
  "nbformat": 4,
  "nbformat_minor": 4
}
