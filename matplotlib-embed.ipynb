{
  "cells": [
    {
      "cell_type": "raw",
      "metadata": {},
      "source": [
        "---\n",
        "title: matplotlib embed\n",
        "---\n",
        "\n",
        "#### no crossref, no caption\n",
        "\n",
        "{{< embed matplotlib.ipynb#matplotlib-normal >}}\n",
        "\n",
        "#### crossref, no caption\n",
        "\n",
        "::: {#fig-matplotlib-line}\n",
        "\n",
        "{{< embed matplotlib.ipynb#matplotlib-line >}}\n",
        "\n",
        ":::\n",
        "\n",
        "#### crossref and caption\n",
        "\n",
        "::: {#fig-matplotlib-cosine}\n",
        "\n",
        "{{< embed matplotlib.ipynb#matplotlib-cosine >}}\n",
        "\n",
        "cosine\n",
        "\n",
        ":::\n"
      ]
    }
  ],
  "metadata": {
    "kernelspec": {
      "display_name": "Python 3 (ipykernel)",
      "language": "python",
      "name": "python3",
      "path": "/Users/gordon/src/quarto-web/.venv/share/jupyter/kernels/python3"
    },
    "language_info": {
      "name": "python"
    }
  },
  "nbformat": 4,
  "nbformat_minor": 4
}
