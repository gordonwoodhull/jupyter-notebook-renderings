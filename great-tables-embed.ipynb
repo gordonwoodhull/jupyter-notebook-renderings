{
  "cells": [
    {
      "cell_type": "raw",
      "metadata": {},
      "source": [
        "---\n",
        "title: great tables embed\n",
        "---\n",
        "\n",
        "{{< embed great-tables.ipynb#great-tables >}}\n"
      ]
    }
  ],
  "metadata": {
    "kernelspec": {
      "display_name": "Python 3 (ipykernel)",
      "language": "python",
      "name": "python3",
      "path": "/Users/gordon/src/quarto-web/.venv/share/jupyter/kernels/python3"
    },
    "language_info": {
      "name": "python"
    }
  },
  "nbformat": 4,
  "nbformat_minor": 4
}
