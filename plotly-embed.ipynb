{
  "cells": [
    {
      "cell_type": "raw",
      "metadata": {},
      "source": [
        "---\n",
        "title: plotly embed\n",
        "---\n",
        "\n",
        "#### plotly violin\n",
        "\n",
        "{{< embed plotly-python.ipynb#plotly-iris-violin >}}\n",
        "\n",
        "#### again\n",
        "\n",
        "{{< embed plotly-python.ipynb#plotly-iris-violin-2 >}}"
      ]
    }
  ],
  "metadata": {
    "kernelspec": {
      "display_name": "Python 3 (ipykernel)",
      "language": "python",
      "name": "python3",
      "path": "/Users/gordon/src/quarto-web/.venv/share/jupyter/kernels/python3"
    },
    "language_info": {
      "name": "python"
    }
  },
  "nbformat": 4,
  "nbformat_minor": 4
}
