{
  "cells": [
    {
      "cell_type": "raw",
      "metadata": {},
      "source": [
        "---\n",
        "title: bokeh embed\n",
        "---\n",
        "\n",
        "#### bokeh splom\n",
        "\n",
        "{{< embed bokeh.ipynb#bokeh-splom >}}\n",
        "\n",
        "#### again\n",
        "\n",
        "{{< embed bokeh.ipynb#bokeh-splom-2 >}}\n"
      ]
    }
  ],
  "metadata": {
    "kernelspec": {
      "display_name": "Python 3 (ipykernel)",
      "language": "python",
      "name": "python3",
      "path": "/Users/gordon/src/quarto-web/.venv/share/jupyter/kernels/python3"
    },
    "language_info": {
      "name": "python"
    }
  },
  "nbformat": 4,
  "nbformat_minor": 4
}
